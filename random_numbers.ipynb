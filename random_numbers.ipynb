{
 "cells": [
  {
   "cell_type": "code",
   "execution_count": 1,
   "id": "22ec8680-974b-4f64-bd8e-d15232027fd0",
   "metadata": {},
   "outputs": [],
   "source": [
    "# Import the random module.\n",
    "import random"
   ]
  },
  {
   "cell_type": "code",
   "execution_count": 2,
   "id": "46207ba5-6886-4b6d-b7c8-1a0e01389128",
   "metadata": {},
   "outputs": [
    {
     "data": {
      "text/plain": [
       "-53"
      ]
     },
     "execution_count": 2,
     "metadata": {},
     "output_type": "execute_result"
    }
   ],
   "source": [
    "random.randint(-90,90)"
   ]
  },
  {
   "cell_type": "code",
   "execution_count": 3,
   "id": "f752bfa8-efee-4d47-9d86-9e6d41105acf",
   "metadata": {},
   "outputs": [
    {
     "data": {
      "text/plain": [
       "0.7204663149306414"
      ]
     },
     "execution_count": 3,
     "metadata": {},
     "output_type": "execute_result"
    }
   ],
   "source": [
    "\n",
    "random.random()"
   ]
  },
  {
   "cell_type": "code",
   "execution_count": 29,
   "id": "761fcaff-cc40-4045-ae09-7854c4be5c27",
   "metadata": {},
   "outputs": [
    {
     "data": {
      "text/plain": [
       "-67.06004996133262"
      ]
     },
     "execution_count": 29,
     "metadata": {},
     "output_type": "execute_result"
    }
   ],
   "source": [
    "random_number = random.randint(-90,89) + random.random()\n",
    "random_number"
   ]
  },
  {
   "cell_type": "code",
   "execution_count": 4,
   "id": "b6e6313d-9e40-4b4b-8547-790e4063dcdc",
   "metadata": {},
   "outputs": [
    {
     "data": {
      "text/plain": [
       "[-11.831662457878183,\n",
       " -78.06774034946716,\n",
       " -31.82269284426021,\n",
       " 25.709094877193582,\n",
       " -53.26849109637014,\n",
       " 66.98410534737408,\n",
       " -16.177155593353415,\n",
       " -25.23935176879309,\n",
       " -84.32965780212295,\n",
       " 73.25832477285368]"
      ]
     },
     "execution_count": 4,
     "metadata": {},
     "output_type": "execute_result"
    }
   ],
   "source": [
    "x = 1\n",
    "latitudes_list = []\n",
    "while x < 11:\n",
    "    random_lat = random.randint(-90, 89) + random.random()\n",
    "    latitudes_list.append(random_lat)\n",
    "    x += 1\n",
    "    \n",
    "latitudes_list"
   ]
  },
  {
   "cell_type": "code",
   "execution_count": 5,
   "id": "ca15490c-5579-49da-abeb-093b65ee54ec",
   "metadata": {},
   "outputs": [
    {
     "data": {
      "text/plain": [
       "6"
      ]
     },
     "execution_count": 5,
     "metadata": {},
     "output_type": "execute_result"
    }
   ],
   "source": [
    "random.randrange(-90, 90, step=3)"
   ]
  },
  {
   "cell_type": "code",
   "execution_count": 6,
   "id": "3d467550-606c-4347-975e-bbe9e1baaf74",
   "metadata": {},
   "outputs": [
    {
     "data": {
      "text/plain": [
       "4.3761029394031254"
      ]
     },
     "execution_count": 6,
     "metadata": {},
     "output_type": "execute_result"
    }
   ],
   "source": [
    "random.uniform(-90, 90)"
   ]
  },
  {
   "cell_type": "code",
   "execution_count": 7,
   "id": "776b70e3-daf5-4271-9a9b-e5ec47054b9e",
   "metadata": {},
   "outputs": [],
   "source": [
    "# Import the NumPy module.\n",
    "import numpy as np"
   ]
  },
  {
   "cell_type": "code",
   "execution_count": 8,
   "id": "186e07a3-e319-4fab-87fd-2882455ad483",
   "metadata": {},
   "outputs": [
    {
     "data": {
      "text/plain": [
       "-21.661529888058155"
      ]
     },
     "execution_count": 8,
     "metadata": {},
     "output_type": "execute_result"
    }
   ],
   "source": [
    "#When we use the NumPy module with the random.uniform() function, the parenthetical parameters contain a lower boundary (low value) and an upper boundary (high value) that are floating-point decimal numbers.\n",
    "\n",
    "np.random.uniform(-90.000, 90.000)"
   ]
  },
  {
   "cell_type": "code",
   "execution_count": 9,
   "id": "dd26ce09-71ed-4ed1-84d8-6600ccfbc62e",
   "metadata": {},
   "outputs": [
    {
     "data": {
      "text/plain": [
       "array([ 68.45988991,  76.97858026, -79.55000241,  13.6350014 ,\n",
       "        24.7129569 , -31.76685645,  77.8147397 ,  37.63590679,\n",
       "       -36.3554055 , -64.74835526,  79.00178388,  81.51738852,\n",
       "       -37.36010421,  26.41785379, -74.905653  , -37.30887093,\n",
       "        18.32819079, -43.89919293,  77.2443015 ,  55.97479903,\n",
       "       -61.42745753,  -5.00954896, -28.86651192, -25.49637297,\n",
       "        60.82064112, -59.18149663,  69.77208393,  19.71869782,\n",
       "        31.88570257, -23.30168255, -51.75763436, -23.52985413,\n",
       "        65.76030615,  37.1418293 ,  -0.98683698,  17.70575784,\n",
       "        14.85347219, -86.18368472,  66.29246595, -86.39922434,\n",
       "        62.97910632,  12.60152628,  76.5346978 ,   6.11972541,\n",
       "        50.3957158 ,  44.24503124,  32.29609675,  89.65851743,\n",
       "        44.92344967,  -3.78963724])"
      ]
     },
     "execution_count": 9,
     "metadata": {},
     "output_type": "execute_result"
    }
   ],
   "source": [
    "# add \"size=i\" to return i number of random values\n",
    "np.random.uniform(-90.000, 90.000, size=50)"
   ]
  },
  {
   "cell_type": "code",
   "execution_count": 10,
   "id": "f1c11263-de17-43fd-b5a5-8bbbd86c5482",
   "metadata": {},
   "outputs": [
    {
     "name": "stdout",
     "output_type": "stream",
     "text": [
      "35.6 µs ± 3.48 µs per loop (mean ± std. dev. of 7 runs, 10000 loops each)\n"
     ]
    }
   ],
   "source": [
    "# Import timeit.\n",
    "import timeit\n",
    "%timeit np.random.uniform(-90.000, 90.000, size=1500)"
   ]
  },
  {
   "cell_type": "code",
   "execution_count": 11,
   "id": "1713c84f-bc9e-408a-8df1-a75e071abcd8",
   "metadata": {},
   "outputs": [
    {
     "name": "stdout",
     "output_type": "stream",
     "text": [
      "4.03 ms ± 412 µs per loop (mean ± std. dev. of 7 runs, 100 loops each)\n"
     ]
    }
   ],
   "source": [
    "def latitudes(size):\n",
    "    latitudes = []\n",
    "    x = 0\n",
    "    while x < (size):\n",
    "        random_lat = random.randint(-90, 90) + random.random()\n",
    "        latitudes.append(random_lat)\n",
    "        x += 1\n",
    "    return latitudes\n",
    "# Call the function with 1500.\n",
    "%timeit latitudes(1500)"
   ]
  },
  {
   "cell_type": "code",
   "execution_count": 25,
   "id": "feb4d79b-6b39-47f7-988d-63237f04bcc3",
   "metadata": {},
   "outputs": [],
   "source": [
    "# Import linear regression from the SciPy stats module.\n",
    "from scipy.stats import linregress"
   ]
  },
  {
   "cell_type": "code",
   "execution_count": 26,
   "id": "cb1d357c-5961-42f2-976b-3e56716763d7",
   "metadata": {},
   "outputs": [],
   "source": [
    "# Create an equal number of latitudes and temperatures.\n",
    "lats = [42.5, 43.9, 8.1, 36.8, 79.9, 69.1, 25.7, 15.3, 12.7, 64.5]\n",
    "temps = [80.5, 75.3, 90.9, 90.0, 40.4, 62.3, 85.4, 79.6, 72.5, 72.0]"
   ]
  },
  {
   "cell_type": "code",
   "execution_count": 27,
   "id": "41f321c9-0f02-4d83-82cd-b8a6b2b5e654",
   "metadata": {},
   "outputs": [
    {
     "name": "stdout",
     "output_type": "stream",
     "text": [
      "y = -0.45x + 92.94\n",
      "The p-value is: 0.011\n"
     ]
    }
   ],
   "source": [
    "# Perform linear regression.\n",
    "(slope, intercept, r_value, p_value, std_err) = linregress(lats, temps)\n",
    "# Get the equation of the line.\n",
    "line_eq = \"y = \" + str(round(slope,2)) + \"x + \" + str(round(intercept,2))\n",
    "print(line_eq)\n",
    "print(f\"The p-value is: {p_value:.3f}\")"
   ]
  },
  {
   "cell_type": "code",
   "execution_count": 15,
   "id": "cee8fe86-247d-4c5a-994f-be0060e2092f",
   "metadata": {},
   "outputs": [],
   "source": [
    "import matplotlib.pyplot as plt "
   ]
  },
  {
   "cell_type": "code",
   "execution_count": 16,
   "id": "4c68de02-bb4c-4e86-a12f-62cb76416876",
   "metadata": {},
   "outputs": [
    {
     "data": {
      "text/plain": [
       "<matplotlib.collections.PathCollection at 0x18f03765048>"
      ]
     },
     "execution_count": 16,
     "metadata": {},
     "output_type": "execute_result"
    },
    {
     "data": {
      "image/png": "[encoded data removed]",
      "text/plain": [
       "<Figure size 432x288 with 1 Axes>"
      ]
     },
     "metadata": {
      "needs_background": "light"
     },
     "output_type": "display_data"
    }
   ],
   "source": [
    "plt.scatter(lats,temps)"
   ]
  },
  {
   "cell_type": "code",
   "execution_count": 17,
   "id": "c87505e6-1b2e-4949-a800-a19cdc5ea263",
   "metadata": {},
   "outputs": [
    {
     "name": "stdout",
     "output_type": "stream",
     "text": [
      "[73.075, 72.44500000000001, 88.555, 75.64, 56.245, 61.105000000000004, 80.635, 85.315, 86.485, 63.175]\n"
     ]
    }
   ],
   "source": [
    "y=[]\n",
    "for x in lats:\n",
    "    y1 = -0.45*x + 92.2\n",
    "    y.append(y1)\n",
    "\n",
    "print(y)"
   ]
  },
  {
   "cell_type": "code",
   "execution_count": 18,
   "id": "f27eff3e-f99f-44ce-b8ab-ca4e558464cd",
   "metadata": {},
   "outputs": [
    {
     "data": {
      "text/plain": [
       "[73.075,\n",
       " 72.44500000000001,\n",
       " 88.555,\n",
       " 75.64,\n",
       " 56.245,\n",
       " 61.105000000000004,\n",
       " 80.635,\n",
       " 85.315,\n",
       " 86.485,\n",
       " 63.175]"
      ]
     },
     "execution_count": 18,
     "metadata": {},
     "output_type": "execute_result"
    }
   ],
   "source": [
    "y"
   ]
  },
  {
   "cell_type": "code",
   "execution_count": 19,
   "id": "668ca155-2060-4dcb-af95-26e8334635e0",
   "metadata": {},
   "outputs": [
    {
     "data": {
      "text/plain": [
       "[42.5, 43.9, 8.1, 36.8, 79.9, 69.1, 25.7, 15.3, 12.7, 64.5]"
      ]
     },
     "execution_count": 19,
     "metadata": {},
     "output_type": "execute_result"
    }
   ],
   "source": [
    "lats"
   ]
  },
  {
   "cell_type": "code",
   "execution_count": 20,
   "id": "8b943ff2-0ddf-4955-abb4-69bc56e32ba3",
   "metadata": {},
   "outputs": [
    {
     "data": {
      "text/plain": [
       "[<matplotlib.lines.Line2D at 0x18f04a43a48>]"
      ]
     },
     "execution_count": 20,
     "metadata": {},
     "output_type": "execute_result"
    },
    {
     "data": {
      "image/png": "[encoded data removed]",
      "text/plain": [
       "<Figure size 432x288 with 1 Axes>"
      ]
     },
     "metadata": {
      "needs_background": "light"
     },
     "output_type": "display_data"
    }
   ],
   "source": [
    "plt.plot(lats,y)"
   ]
  },
  {
   "cell_type": "code",
   "execution_count": 21,
   "id": "da82b396-9e26-4a8e-9b2c-beb82a828812",
   "metadata": {},
   "outputs": [
    {
     "data": {
      "text/plain": [
       "[<matplotlib.lines.Line2D at 0x18f04a9d148>]"
      ]
     },
     "execution_count": 21,
     "metadata": {},
     "output_type": "execute_result"
    },
    {
     "data": {
      "image/png": "[encoded data removed]",
      "text/plain": [
       "<Figure size 432x288 with 1 Axes>"
      ]
     },
     "metadata": {
      "needs_background": "light"
     },
     "output_type": "display_data"
    }
   ],
   "source": [
    "plt.scatter(lats,temps)\n",
    "plt.plot(lats,y)"
   ]
  },
  {
   "cell_type": "code",
   "execution_count": 22,
   "id": "281e6062-578e-4da8-90d7-94bb4397ebef",
   "metadata": {},
   "outputs": [
    {
     "name": "stdout",
     "output_type": "stream",
     "text": [
      "y = -0.45x + 92.94\n",
      "The p-value is: 0.011\n"
     ]
    }
   ],
   "source": [
    "# Perform linear regression.\n",
    "(slope, intercept, r_value, p_value, std_err) = linregress(lats, temps)\n",
    "# Get the equation of the line.\n",
    "line_eq = \"y = \" + str(round(slope,2)) + \"x + \" + str(round(intercept,2))\n",
    "print(line_eq)\n",
    "print(f\"The p-value is: {p_value:.3f}\")"
   ]
  },
  {
   "cell_type": "code",
   "execution_count": 28,
   "id": "77820fb4-0a48-4522-9252-d981d9306f4d",
   "metadata": {},
   "outputs": [],
   "source": [
    "# Calculate the regression line \"y values\" from the slope and intercept.\n",
    "regress_values = [(lat * slope + intercept) for lat in lats]"
   ]
  },
  {
   "cell_type": "code",
   "execution_count": 24,
   "id": "30680a42-50cc-49c5-867e-57ff1efd3bf0",
   "metadata": {},
   "outputs": [
    {
     "data": {
      "image/png": "[encoded data removed]",
      "text/plain": [
       "<Figure size 432x288 with 1 Axes>"
      ]
     },
     "metadata": {
      "needs_background": "light"
     },
     "output_type": "display_data"
    }
   ],
   "source": [
    "# Import Matplotlib.\n",
    "import matplotlib.pyplot as plt\n",
    "# Create a scatter plot of the x and y values.\n",
    "plt.scatter(lats,temps)\n",
    "# Plot the regression line with the x-values and the y coordinates based on the intercept and slope.\n",
    "plt.plot(lats,regress_values,\"r\")\n",
    "# Annotate the text for the line equation and add its coordinates.\n",
    "plt.annotate(line_eq, (10,40), fontsize=15, color=\"red\")\n",
    "plt.xlabel('Latitude')\n",
    "plt.ylabel('Temp')\n",
    "plt.show()"
   ]
  }
 ],
 "metadata": {
  "kernelspec": {
   "display_name": "Python 3 (ipykernel)",
   "language": "python",
   "name": "python3"
  },
  "language_info": {
   "codemirror_mode": {
    "name": "ipython",
    "version": 3
   },
   "file_extension": ".py",
   "mimetype": "text/x-python",
   "name": "python",
   "nbconvert_exporter": "python",
   "pygments_lexer": "ipython3",
   "version": "3.7.6"
  }
 },
 "nbformat": 4,
 "nbformat_minor": 5
}
